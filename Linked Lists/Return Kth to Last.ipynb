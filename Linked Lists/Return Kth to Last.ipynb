{
 "cells": [
  {
   "cell_type": "markdown",
   "metadata": {},
   "source": [
    "# Return Kth to Last"
   ]
  },
  {
   "cell_type": "markdown",
   "metadata": {},
   "source": [
    "Implement an algorithm to find the k<sup>th</sup> to last element of a single linked list"
   ]
  },
  {
   "cell_type": "code",
   "execution_count": 19,
   "metadata": {
    "collapsed": true
   },
   "outputs": [],
   "source": [
    "class Node:\n",
    "    def __init__(self, data=0, next_node=None):\n",
    "        self.data = data\n",
    "        self.next = next_node\n",
    "        \n",
    "class LinkedList:\n",
    "    def __init__(self, node=None):\n",
    "        self.head = node\n",
    "        self.tail = node\n",
    "        \n",
    "    def insert_back(self, data):\n",
    "        new_node = Node(data)\n",
    "        if self.head is None:\n",
    "            self.fill_head_and_tail(new_node)\n",
    "            return\n",
    "\n",
    "        self.tail.next = new_node\n",
    "        self.tail = new_node\n",
    "\n",
    "    def fill_head_and_tail(self, node):\n",
    "        self.head = node\n",
    "        self.tail = node\n",
    "        \n",
    "    def find_kth_to_last(self, data, k):\n",
    "        store = self.create_node_count()\n",
    "        current = self.head\n",
    "        while current is not None:\n",
    "            print(current.data)\n",
    "            if current.data == data:\n",
    "                if store[current.data] == k:\n",
    "                    print('found it!')\n",
    "                    return current\n",
    "                else:\n",
    "                    store[current.data] -= 1\n",
    "            current = current.next\n",
    "        \n",
    "        return 'Not found!'\n",
    "        \n",
    "    def create_node_count(self):\n",
    "        store = {}\n",
    "        current = self.head\n",
    "        while current is not None:\n",
    "            if current.data in store:\n",
    "                store[current.data] += 1\n",
    "            else:\n",
    "                store[current.data] = 1\n",
    "            \n",
    "            current = current.next\n",
    "            \n",
    "        return store\n",
    "        \n",
    "        \n",
    "\n",
    "    def print_all(self):\n",
    "        print('PRINTING ALL')\n",
    "        node = self.head\n",
    "        while (node != None):\n",
    "            print(node.data)\n",
    "            node = node.next"
   ]
  },
  {
   "cell_type": "code",
   "execution_count": 18,
   "metadata": {},
   "outputs": [
    {
     "name": "stdout",
     "output_type": "stream",
     "text": [
      "tyler\n",
      "tyler\n",
      "tyler\n",
      "ross\n",
      "tyler\n",
      "found it!\n",
      "<__main__.Node instance at 0x111b39f80>\n"
     ]
    }
   ],
   "source": [
    "ll = LinkedList()\n",
    "ll.insert_back('tyler')\n",
    "ll.insert_back('tyler')\n",
    "ll.insert_back('tyler')\n",
    "ll.insert_back('ross')\n",
    "ll.insert_back('tyler')\n",
    "ll.insert_back('tyler')\n",
    "print(ll.find_kth_to_last('tyler', 2))"
   ]
  },
  {
   "cell_type": "code",
   "execution_count": null,
   "metadata": {
    "collapsed": true
   },
   "outputs": [],
   "source": []
  }
 ],
 "metadata": {
  "kernelspec": {
   "display_name": "Python 2",
   "language": "python",
   "name": "python2"
  },
  "language_info": {
   "codemirror_mode": {
    "name": "ipython",
    "version": 2
   },
   "file_extension": ".py",
   "mimetype": "text/x-python",
   "name": "python",
   "nbconvert_exporter": "python",
   "pygments_lexer": "ipython2",
   "version": "2.7.14"
  }
 },
 "nbformat": 4,
 "nbformat_minor": 2
}
