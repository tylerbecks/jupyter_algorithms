{
 "cells": [
  {
   "cell_type": "markdown",
   "metadata": {},
   "source": [
    "# Sum Lists"
   ]
  },
  {
   "cell_type": "markdown",
   "metadata": {},
   "source": [
    "You have 2 numbers represented by a linked list, where each node contains a single digit.  The digits are stored in *reverse* order, such that the 1's digit is at the head of the list.  Write a function that adds the 2 numbers and returns the sum as a linked list.\n",
    "<br>\n",
    "<b>EXAMPLE</b>\n",
    "<br>\n",
    "Input: (7 -> 1 -> 6) + (5 -> 9 -> 2).  That is 617 + 295.\n",
    "<br>\n",
    "Output: (2 -> 1  -> 9).  That is, 912.\n",
    "<br><br>\n",
    "Suppose the digits are stored in forward order.  Repeat the above problems\n",
    "<br>\n",
    "<b>EXAMPLE</b>\n",
    "<br>\n",
    "Input: (6 -> 1 -> 7) + (2 -> 9 -> 5).  That is 617 + 295.\n",
    "<br>\n",
    "Output: (9 -> 1  -> 2).  That is, 912."
   ]
  },
  {
   "cell_type": "code",
   "execution_count": 5,
   "metadata": {
    "collapsed": true
   },
   "outputs": [],
   "source": [
    " class Node:\n",
    "    def __init__(self, data=0, next_node=None):\n",
    "        self.data = data\n",
    "        self.next = next_node\n",
    "        \n",
    "class LinkedList:\n",
    "    def __init__(self, data=None):\n",
    "        node = Node(data) if data is not None else None\n",
    "        self.head = node\n",
    "        self.tail = node\n",
    "        \n",
    "    def add(self, data):\n",
    "        new_node = Node(data)\n",
    "        if self.head is None:\n",
    "            self.fill_head_and_tail(new_node)\n",
    "            return\n",
    "\n",
    "        self.tail.next = new_node\n",
    "        self.tail = new_node\n",
    "\n",
    "    def fill_head_and_tail(self, node):\n",
    "        self.head = node\n",
    "        self.tail = node\n",
    "        \n",
    "    def print_all(self):\n",
    "        print('PRINTING ALL')\n",
    "        node = self.head\n",
    "        while (node != None):\n",
    "            if node is self.head and node is self.tail:\n",
    "                print('head and tail: {}'.format(node.data))\n",
    "            elif node is self.head:\n",
    "                print('head: {}'.format(node.data))\n",
    "            elif node is self.tail:\n",
    "                print('tail: {}'.format(node.data))\n",
    "            else:\n",
    "                print(node.data)\n",
    "            \n",
    "            node = node.next\n",
    "            \n",
    "    def convert_to_list(self):\n",
    "        arr = []\n",
    "        node = self.head\n",
    "        while node is not None:\n",
    "            arr.append(node.data)\n",
    "            node = node.next\n",
    "        \n",
    "        return arr\n"
   ]
  },
  {
   "cell_type": "code",
   "execution_count": 23,
   "metadata": {},
   "outputs": [],
   "source": [
    "def sumLinkedLists(first, second):\n",
    "    result = LinkedList()\n",
    "    carry_over = 0\n",
    "    first_node = first.head\n",
    "    second_node = second.head\n",
    "    while first_node is not None:\n",
    "        val = first_node.data + second_node.data + carry_over\n",
    "        carry_over = val / 10\n",
    "        result.add(val % 10)\n",
    "        first_node = first_node.next\n",
    "        second_node = second_node.next\n",
    "\n",
    "    return result.convert_to_list()\n",
    "    "
   ]
  },
  {
   "cell_type": "code",
   "execution_count": 24,
   "metadata": {},
   "outputs": [
    {
     "name": "stdout",
     "output_type": "stream",
     "text": [
      "([2, 1, 9], [2, 1, 9])\n"
     ]
    }
   ],
   "source": [
    "first = LinkedList(7)\n",
    "first.add(1)\n",
    "first.add(6)\n",
    "\n",
    "second = LinkedList(5)\n",
    "second.add(9)\n",
    "second.add(2)\n",
    "\n",
    "print(sumLinkedLists(first, second), [2, 1, 9])"
   ]
  },
  {
   "cell_type": "code",
   "execution_count": null,
   "metadata": {
    "collapsed": true
   },
   "outputs": [],
   "source": []
  }
 ],
 "metadata": {
  "kernelspec": {
   "display_name": "Python 2",
   "language": "python",
   "name": "python2"
  },
  "language_info": {
   "codemirror_mode": {
    "name": "ipython",
    "version": 2
   },
   "file_extension": ".py",
   "mimetype": "text/x-python",
   "name": "python",
   "nbconvert_exporter": "python",
   "pygments_lexer": "ipython2",
   "version": "2.7.14"
  }
 },
 "nbformat": 4,
 "nbformat_minor": 2
}
