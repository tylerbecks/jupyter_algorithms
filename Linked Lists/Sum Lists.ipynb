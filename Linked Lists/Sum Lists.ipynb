{
 "cells": [
  {
   "cell_type": "markdown",
   "metadata": {},
   "source": [
    "# Sum Lists"
   ]
  },
  {
   "cell_type": "markdown",
   "metadata": {},
   "source": [
    "You have 2 numbers represented by a linked list, where each node contains a single digit.  The digits are stored in *reverse* order, such that the 1's digit is at the head of the list.  Write a function that adds the 2 numbers and returns the sum as a linked list.\n",
    "<br>\n",
    "<b>EXAMPLE</b>\n",
    "<br>\n",
    "Input: (7 -> 1 -> 6) + (5 -> 9 -> 2).  That is 617 + 295.\n",
    "<br>\n",
    "Output: (2 -> 1  -> 9).  That is, 912.\n",
    "<br><br>\n",
    "Suppose the digits are stored in forward order.  Repeat the above problems\n",
    "<br>\n",
    "<b>EXAMPLE</b>\n",
    "<br>\n",
    "Input: (6 -> 1 -> 7) + (2 -> 9 -> 5).  That is 617 + 295.\n",
    "<br>\n",
    "Output: (9 -> 1  -> 2).  That is, 912."
   ]
  },
  {
   "cell_type": "code",
   "execution_count": 38,
   "metadata": {
    "collapsed": true
   },
   "outputs": [],
   "source": [
    " class Node:\n",
    "    def __init__(self, data=None):\n",
    "        self.data = data\n",
    "        self.next = None"
   ]
  },
  {
   "cell_type": "code",
   "execution_count": 60,
   "metadata": {
    "collapsed": true
   },
   "outputs": [],
   "source": [
    "def sum_linked_lists(first, second):\n",
    "    sum_list = Node()\n",
    "    result = sum_list\n",
    "    carry_over = 0\n",
    "    while first is not None:\n",
    "        sum = first.data + second.data + carry_over\n",
    "        carry_over = sum // 10\n",
    "        print('data: {}'.format(sum % 10))\n",
    "        sum_list.data = sum % 10\n",
    "        sum_list.next = Node()\n",
    "\n",
    "        sum_list = sum_list.next\n",
    "        second = second.next\n",
    "        first = first.next\n",
    "        \n",
    "    if carry_over != 0:\n",
    "        result.next = Node(carry_over)\n",
    "        \n",
    "    return result\n"
   ]
  },
  {
   "cell_type": "code",
   "execution_count": 61,
   "metadata": {},
   "outputs": [
    {
     "name": "stdout",
     "output_type": "stream",
     "text": [
      "data: 2\n",
      "data: 1\n",
      "data: 9\n",
      "2\n",
      "1\n",
      "9\n",
      "None\n"
     ]
    }
   ],
   "source": [
    "first = Node(7)\n",
    "b = Node(1)\n",
    "c = Node(6)\n",
    "first.next = b\n",
    "b.next = c\n",
    "\n",
    "second = Node(5)\n",
    "e = Node(9)\n",
    "f = Node(2)\n",
    "second.next = e\n",
    "e.next = f\n",
    "\n",
    "result = sum_linked_lists(first, second)\n",
    "# print(219)\n",
    "n = result\n",
    "while n is not None:\n",
    "    print(n.data)\n",
    "    n = n.next\n"
   ]
  },
  {
   "cell_type": "markdown",
   "metadata": {
    "collapsed": true
   },
   "source": [
    "617<br>\n",
    "295"
   ]
  },
  {
   "cell_type": "code",
   "execution_count": null,
   "metadata": {
    "collapsed": true
   },
   "outputs": [],
   "source": []
  }
 ],
 "metadata": {
  "kernelspec": {
   "display_name": "Python 3",
   "language": "python",
   "name": "python3"
  },
  "language_info": {
   "codemirror_mode": {
    "name": "ipython",
    "version": 3
   },
   "file_extension": ".py",
   "mimetype": "text/x-python",
   "name": "python",
   "nbconvert_exporter": "python",
   "pygments_lexer": "ipython3",
   "version": "3.6.3"
  }
 },
 "nbformat": 4,
 "nbformat_minor": 2
}
