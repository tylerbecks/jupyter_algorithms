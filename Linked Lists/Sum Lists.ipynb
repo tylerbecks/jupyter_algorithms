{
 "cells": [
  {
   "cell_type": "markdown",
   "metadata": {},
   "source": [
    "# Sum Lists"
   ]
  },
  {
   "cell_type": "markdown",
   "metadata": {},
   "source": [
    "You have 2 numbers represented by a linked list, where each node contains a single digit.  The digits are stored in *reverse* order, such that the 1's digit is at the head of the list.  Write a function that adds the 2 numbers and returns the sum as a linked list.\n",
    "<br>\n",
    "<b>EXAMPLE</b>\n",
    "<br>\n",
    "Input: (7 -> 1 -> 6) + (5 -> 9 -> 2).  That is 617 + 295.\n",
    "<br>\n",
    "Output: (2 -> 1  -> 9).  That is, 912.\n",
    "<br><br>\n",
    "Suppose the digits are stored in forward order.  Repeat the above problems\n",
    "<br>\n",
    "<b>EXAMPLE</b>\n",
    "<br>\n",
    "Input: (6 -> 1 -> 7) + (2 -> 9 -> 5).  That is 617 + 295.\n",
    "<br>\n",
    "Output: (9 -> 1  -> 2).  That is, 912."
   ]
  },
  {
   "cell_type": "code",
   "execution_count": 46,
   "metadata": {
    "collapsed": true
   },
   "outputs": [],
   "source": [
    " class Node:\n",
    "    def __init__(self, data=None):\n",
    "        self.data = data\n",
    "        self.next = None"
   ]
  },
  {
   "cell_type": "code",
   "execution_count": 64,
   "metadata": {},
   "outputs": [],
   "source": [
    "def sum_lists(first, second):\n",
    "    first, second = normalize(first, second)\n",
    "    sum = first.data + second.data\n",
    "    if first.next is None:\n",
    "        return Node(sum % 10)\n",
    "    else:\n",
    "        result = Node(sum % 10)\n",
    "        result.next = sum_lists(first.next, second.next)\n",
    "        return result\n"
   ]
  },
  {
   "cell_type": "code",
   "execution_count": 65,
   "metadata": {},
   "outputs": [],
   "source": [
    "def len_list(node, count=0):\n",
    "    return count if node is None else len_list(node.next, count + 1)"
   ]
  },
  {
   "cell_type": "code",
   "execution_count": 66,
   "metadata": {
    "collapsed": true
   },
   "outputs": [],
   "source": [
    "def normalize(first, second):\n",
    "    len_first = len_list(first)\n",
    "    len_second = len_list(second)\n",
    "    if len_first == len_second:\n",
    "        return first, second\n",
    "\n",
    "    shorter = first if len_first < len_second else second\n",
    "    longer = first if len_first > len_second else second\n",
    "    for i in range(abs(len_first - len_second)):\n",
    "        normalized_shorter = Node(0)\n",
    "        normalized_shorter.next = shorter\n",
    "        shorter = normalized_shorter\n",
    "    \n",
    "    return shorter, longer"
   ]
  },
  {
   "cell_type": "code",
   "execution_count": 68,
   "metadata": {},
   "outputs": [
    {
     "name": "stdout",
     "output_type": "stream",
     "text": [
      "5\n",
      "7\n",
      "4\n",
      "0\n"
     ]
    }
   ],
   "source": [
    "first = Node(7)\n",
    "b = Node(1)\n",
    "c = Node(6)\n",
    "first.next = b\n",
    "b.next = c\n",
    "\n",
    "second = Node(5)\n",
    "e = Node(0)\n",
    "f = Node(3)\n",
    "g = Node(4)\n",
    "\n",
    "second.next = e\n",
    "e.next = f\n",
    "f.next = g\n",
    "\n",
    "result = sum_lists(first, second)\n",
    "# => 229\n",
    "n = result\n",
    "while n is not None:\n",
    "    print(n.data)\n",
    "    n = n.next\n"
   ]
  },
  {
   "cell_type": "code",
   "execution_count": null,
   "metadata": {
    "collapsed": true
   },
   "outputs": [],
   "source": []
  }
 ],
 "metadata": {
  "kernelspec": {
   "display_name": "Python 3",
   "language": "python",
   "name": "python3"
  },
  "language_info": {
   "codemirror_mode": {
    "name": "ipython",
    "version": 3
   },
   "file_extension": ".py",
   "mimetype": "text/x-python",
   "name": "python",
   "nbconvert_exporter": "python",
   "pygments_lexer": "ipython3",
   "version": "3.6.3"
  }
 },
 "nbformat": 4,
 "nbformat_minor": 2
}
