{
 "cells": [
  {
   "cell_type": "markdown",
   "metadata": {},
   "source": [
    "# Delete Middle Node"
   ]
  },
  {
   "cell_type": "markdown",
   "metadata": {},
   "source": [
    "Implement an algorithm to delete a node in the middle (i.e. any node but the first and last node, not necessaritly the exact middle) of a single linked list, given only access to that node\n",
    "<br>\n",
    "EXAMPLE\n",
    "<br>\n",
    "<b>Input</b>: the node c from the linked list a->b->c->d->e->f\n",
    "<br>\n",
    "<b>Output</b>: nothing is returned, but the new linked list looks like this a->b->d->e->f"
   ]
  },
  {
   "cell_type": "code",
   "execution_count": 51,
   "metadata": {},
   "outputs": [],
   "source": [
    "class Node:\n",
    "    def __init__(self, data=0, next_node=None):\n",
    "        self.data = data\n",
    "        self.next = next_node\n",
    "        \n",
    "class LinkedList:\n",
    "    def __init__(self, node=None):\n",
    "        self.head = node\n",
    "        self.tail = node\n",
    "        \n",
    "    def add(self, data):\n",
    "        new_node = Node(data)\n",
    "        if self.head is None:\n",
    "            self.fill_head_and_tail(new_node)\n",
    "        else:\n",
    "            self.tail.next = new_node\n",
    "            self.tail = new_node\n",
    "        return new_node\n",
    "        \n",
    "\n",
    "    def fill_head_and_tail(self, node):\n",
    "        self.head = node\n",
    "        self.tail = node\n",
    "        \n",
    "    def search(self, data):\n",
    "        node = self.head\n",
    "        while node.data != data:\n",
    "            print(node.data)\n",
    "            if node.next is None:\n",
    "                return 'Not found!'\n",
    "            node = node.next\n",
    "\n",
    "        return node.data\n",
    "    \n",
    "    def print_all(self):\n",
    "        print('PRINTING ALL')\n",
    "        node = self.head\n",
    "        while (node != None):\n",
    "            if node is self.head and node is self.tail:\n",
    "                print('head and tail: {}'.format(node.data))\n",
    "            elif node is self.head:\n",
    "                print('head: {}'.format(node.data))\n",
    "            elif node is self.tail:\n",
    "                print('tail: {}'.format(node.data))\n",
    "            else:\n",
    "                print(node.data)\n",
    "            \n",
    "            node = node.next\n",
    "            \n",
    "    def delete_mid(self, node):\n",
    "        while node is not None:\n",
    "            node.data = node.next.data\n",
    "            if node.next is self.tail:\n",
    "                self.tail = node\n",
    "                node.next = None\n",
    "            node = node.next\n"
   ]
  },
  {
   "cell_type": "code",
   "execution_count": 52,
   "metadata": {},
   "outputs": [
    {
     "name": "stdout",
     "output_type": "stream",
     "text": [
      "PRINTING ALL\n",
      "head: tyler\n",
      "jon\n",
      ">ross\n",
      ">wen\n",
      "tail: >shri\n"
     ]
    }
   ],
   "source": [
    "ll = LinkedList()\n",
    "ll.add('tyler')\n",
    "ll.add('jon')\n",
    "weihan = ll.add('vv')\n",
    "ll.add('>ross')\n",
    "ll.add('>wen')\n",
    "ll.add('>shri')\n",
    "ll.delete_mid(weihan)\n",
    "ll.print_all()"
   ]
  },
  {
   "cell_type": "code",
   "execution_count": 53,
   "metadata": {},
   "outputs": [
    {
     "name": "stdout",
     "output_type": "stream",
     "text": [
      "PRINTING ALL\n",
      "head: tyler\n",
      "vv\n",
      "tail: >ross\n",
      "PRINTING ALL\n",
      "head: tyler\n",
      "tail: >ross\n"
     ]
    }
   ],
   "source": [
    "ll = LinkedList()\n",
    "ll.add('tyler')\n",
    "weihan = ll.add('vv')\n",
    "ll.add('>ross')\n",
    "ll.print_all()\n",
    "ll.delete_mid(weihan)\n",
    "ll.print_all()"
   ]
  },
  {
   "cell_type": "code",
   "execution_count": null,
   "metadata": {
    "collapsed": true
   },
   "outputs": [],
   "source": []
  }
 ],
 "metadata": {
  "kernelspec": {
   "display_name": "Python 2",
   "language": "python",
   "name": "python2"
  },
  "language_info": {
   "codemirror_mode": {
    "name": "ipython",
    "version": 2
   },
   "file_extension": ".py",
   "mimetype": "text/x-python",
   "name": "python",
   "nbconvert_exporter": "python",
   "pygments_lexer": "ipython2",
   "version": "2.7.14"
  }
 },
 "nbformat": 4,
 "nbformat_minor": 2
}
