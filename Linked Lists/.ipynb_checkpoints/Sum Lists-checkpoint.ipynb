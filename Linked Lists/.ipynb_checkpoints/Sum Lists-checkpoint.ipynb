{
 "cells": [
  {
   "cell_type": "markdown",
   "metadata": {},
   "source": [
    "# Sum Lists"
   ]
  },
  {
   "cell_type": "markdown",
   "metadata": {},
   "source": [
    "You have 2 numbers represented by a linked list, where each node contains a single digit.  The digits are stored in *reverse* order, such that the 1's digit is at the head of the list.  Write a function that adds the 2 numbers and returns the sum as a linked list.\n",
    "<br>\n",
    "<b>EXAMPLE</b>\n",
    "<br>\n",
    "Input: (7 -> 1 -> 6) + (5 -> 9 -> 2).  That is 617 + 295.\n",
    "<br>\n",
    "Output: (2 -> 1  -> 9).  That is, 912.\n",
    "<br><br>\n",
    "Suppose the digits are stored in forward order.  Repeat the above problems\n",
    "<br>\n",
    "<b>EXAMPLE</b>\n",
    "<br>\n",
    "Input: (6 -> 1 -> 7) + (2 -> 9 -> 5).  That is 617 + 295.\n",
    "<br>\n",
    "Output: (9 -> 1  -> 2).  That is, 912."
   ]
  },
  {
   "cell_type": "code",
   "execution_count": 1,
   "metadata": {
    "collapsed": true
   },
   "outputs": [],
   "source": [
    " class Node:\n",
    "    def __init__(self, data=0, next_node=None):\n",
    "        self.data = data\n",
    "        self.next = next_node"
   ]
  },
  {
   "cell_type": "code",
   "execution_count": 23,
   "metadata": {
    "collapsed": true
   },
   "outputs": [],
   "source": [
    "# def sumLinkedLists(first, second):\n",
    "#     result = LinkedList()\n",
    "#     carry_over = 0\n",
    "#     first_node = first.head\n",
    "#     second_node = second.head\n",
    "#     while first_node is not None:\n",
    "#         val = first_node.data + second_node.data + carry_over\n",
    "#         carry_over = val / 10\n",
    "#         result.add(val % 10)\n",
    "#         first_node = first_node.next\n",
    "#         second_node = second_node.next\n",
    "\n",
    "#     return result.convert_to_list()\n",
    "    "
   ]
  },
  {
   "cell_type": "code",
   "execution_count": 15,
   "metadata": {
    "collapsed": true
   },
   "outputs": [],
   "source": [
    "def sum_linked_lists(first, second):\n",
    "    result = Node()\n",
    "    carry_over = 0\n",
    "    while first is not None:\n",
    "        sum = first.data + second.data + carry_over\n",
    "        carry_over = sum // 10\n",
    "        print('carry_over: {}'.format(carry_over))\n",
    "        print('next_num: {}'.format(sum % 10))\n",
    "        if result.data is None:\n",
    "            result.data = sum % 10\n",
    "        else:\n",
    "            result.next = Node(sum % 10)\n",
    "        \n",
    "        second = second.next\n",
    "        first = first.next\n",
    "        \n",
    "    if carry_over != 0:\n",
    "        result.next = Node(carry_over)\n",
    "        \n",
    "    return result\n"
   ]
  },
  {
   "cell_type": "code",
   "execution_count": 16,
   "metadata": {},
   "outputs": [
    {
     "name": "stdout",
     "output_type": "stream",
     "text": [
      "carry_over: 1\n",
      "next_num: 2\n",
      "carry_over: 1\n",
      "next_num: 1\n",
      "carry_over: 0\n",
      "next_num: 9\n",
      "0\n"
     ]
    }
   ],
   "source": [
    "first = Node(7)\n",
    "b = Node(1)\n",
    "c = Node(6)\n",
    "first.next = b\n",
    "b.next = c\n",
    "\n",
    "second = Node(5)\n",
    "e = Node(9)\n",
    "f = Node(2)\n",
    "second.next = e\n",
    "e.next = f\n",
    "\n",
    "result = sum_linked_lists(first, second)\n",
    "# print(219)\n",
    "n = result\n",
    "# while n is not None:\n",
    "#     print(n.data)\n",
    "#     n = n.next\n"
   ]
  },
  {
   "cell_type": "markdown",
   "metadata": {
    "collapsed": true
   },
   "source": [
    "617<br>\n",
    "295"
   ]
  },
  {
   "cell_type": "code",
   "execution_count": null,
   "metadata": {
    "collapsed": true
   },
   "outputs": [],
   "source": []
  }
 ],
 "metadata": {
  "kernelspec": {
   "display_name": "Python 3",
   "language": "python",
   "name": "python3"
  },
  "language_info": {
   "codemirror_mode": {
    "name": "ipython",
    "version": 3
   },
   "file_extension": ".py",
   "mimetype": "text/x-python",
   "name": "python",
   "nbconvert_exporter": "python",
   "pygments_lexer": "ipython3",
   "version": "3.6.3"
  }
 },
 "nbformat": 4,
 "nbformat_minor": 2
}
