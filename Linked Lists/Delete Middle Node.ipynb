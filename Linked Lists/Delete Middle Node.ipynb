{
 "cells": [
  {
   "cell_type": "markdown",
   "metadata": {},
   "source": [
    "# Delete Middle Node"
   ]
  },
  {
   "cell_type": "markdown",
   "metadata": {},
   "source": [
    "Implement an algorithm to delete a node in the middle (i.e. any node but the first and last node, not necessaritly the exact middle) of a single linked list, given only access to that node\n",
    "<br>\n",
    "EXAMPLE\n",
    "<br>\n",
    "<b>Input</b>: the node c from the linked list a->b->c->d->e->f\n",
    "<br>\n",
    "<b>Output</b>: nothing is returned, but the new linked list looks like this a->b->d->e->f"
   ]
  },
  {
   "cell_type": "code",
   "execution_count": 3,
   "metadata": {
    "collapsed": true
   },
   "outputs": [],
   "source": [
    "class Node:\n",
    "    def __init__(self, data=None):\n",
    "        self.data = data\n",
    "        self.next = None"
   ]
  },
  {
   "cell_type": "code",
   "execution_count": 23,
   "metadata": {},
   "outputs": [],
   "source": [
    "def delete_middle_node(node):\n",
    "    while node is not None:\n",
    "        node.data = node.next.data\n",
    "        if node.next.next is None:\n",
    "            node.next = None\n",
    "        node = node.next\n"
   ]
  },
  {
   "cell_type": "code",
   "execution_count": 24,
   "metadata": {},
   "outputs": [
    {
     "name": "stdout",
     "output_type": "stream",
     "text": [
      "1\n",
      "2\n",
      "4\n",
      "5\n",
      "6\n",
      "7\n"
     ]
    }
   ],
   "source": [
    "a = Node('1')\n",
    "b = Node('2')\n",
    "c = Node('3')\n",
    "d = Node('4')\n",
    "e = Node('5')\n",
    "f = Node('6')\n",
    "g = Node('7')\n",
    "\n",
    "a.next = b\n",
    "b.next = c\n",
    "c.next = d\n",
    "d.next = e\n",
    "e.next = f\n",
    "f.next = g\n",
    "\n",
    "delete_middle_node(c)\n",
    "\n",
    "while a is not None:\n",
    "    print(a.data)\n",
    "    a = a.next"
   ]
  },
  {
   "cell_type": "code",
   "execution_count": null,
   "metadata": {
    "collapsed": true
   },
   "outputs": [],
   "source": []
  },
  {
   "cell_type": "code",
   "execution_count": null,
   "metadata": {
    "collapsed": true
   },
   "outputs": [],
   "source": []
  }
 ],
 "metadata": {
  "kernelspec": {
   "display_name": "Python 3",
   "language": "python",
   "name": "python3"
  },
  "language_info": {
   "codemirror_mode": {
    "name": "ipython",
    "version": 3
   },
   "file_extension": ".py",
   "mimetype": "text/x-python",
   "name": "python",
   "nbconvert_exporter": "python",
   "pygments_lexer": "ipython3",
   "version": "3.6.3"
  }
 },
 "nbformat": 4,
 "nbformat_minor": 2
}
