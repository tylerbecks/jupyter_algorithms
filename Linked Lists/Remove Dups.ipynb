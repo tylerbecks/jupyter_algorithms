{
 "cells": [
  {
   "cell_type": "markdown",
   "metadata": {},
   "source": [
    "# Remove Dups"
   ]
  },
  {
   "cell_type": "markdown",
   "metadata": {},
   "source": [
    "Write code to remove duplicates from an unsorted linked list.\n",
    "<br>FOLLOW UP: How would you solve this problem if a temporary buffer is not allowed?"
   ]
  },
  {
   "cell_type": "code",
   "execution_count": 2,
   "metadata": {
    "collapsed": true
   },
   "outputs": [],
   "source": [
    "class Node:\n",
    "    def __init__(self, data=None):\n",
    "        self.data = data\n",
    "        self.next = None"
   ]
  },
  {
   "cell_type": "code",
   "execution_count": 3,
   "metadata": {
    "collapsed": true
   },
   "outputs": [],
   "source": [
    "def remove_dups(node):\n",
    "    hash = {}\n",
    "    prev = None\n",
    "    while node is not None:\n",
    "        if node.data in hash:\n",
    "            prev.next = node.next\n",
    "        else:\n",
    "            prev = node\n",
    "            hash[node.data] = True\n",
    "        node = node.next"
   ]
  },
  {
   "cell_type": "code",
   "execution_count": 8,
   "metadata": {
    "collapsed": true
   },
   "outputs": [],
   "source": [
    "def remove_dups_constant_space(node):\n",
    "    while node is not None:\n",
    "        runner = node.next\n",
    "        prev = node\n",
    "        while runner is not None:\n",
    "            if runner.data == node.data:\n",
    "                prev.next = runner.next\n",
    "            else:\n",
    "                prev = runner\n",
    "            runner = runner.next\n",
    "        node = node.next\n"
   ]
  },
  {
   "cell_type": "code",
   "execution_count": 9,
   "metadata": {},
   "outputs": [
    {
     "name": "stdout",
     "output_type": "stream",
     "text": [
      "tyler\n",
      "ross\n",
      "vv\n"
     ]
    }
   ],
   "source": [
    "a = Node('tyler')\n",
    "b = Node('ross')\n",
    "c = Node('ross')\n",
    "d = Node('vv')\n",
    "e = Node('vv')\n",
    "f = Node('tyler')\n",
    "\n",
    "a.next = b\n",
    "b.next = c\n",
    "c.next = d\n",
    "d.next = e\n",
    "e.next = f\n",
    "\n",
    "remove_dups_constant_space(a)\n",
    "while a is not None:\n",
    "    print(a.data)\n",
    "    a = a.next"
   ]
  },
  {
   "cell_type": "code",
   "execution_count": null,
   "metadata": {
    "collapsed": true
   },
   "outputs": [],
   "source": [
    "print('a')"
   ]
  },
  {
   "cell_type": "code",
   "execution_count": null,
   "metadata": {
    "collapsed": true
   },
   "outputs": [],
   "source": []
  }
 ],
 "metadata": {
  "kernelspec": {
   "display_name": "Python 3",
   "language": "python",
   "name": "python3"
  },
  "language_info": {
   "codemirror_mode": {
    "name": "ipython",
    "version": 3
   },
   "file_extension": ".py",
   "mimetype": "text/x-python",
   "name": "python",
   "nbconvert_exporter": "python",
   "pygments_lexer": "ipython3",
   "version": "3.6.3"
  }
 },
 "nbformat": 4,
 "nbformat_minor": 2
}
