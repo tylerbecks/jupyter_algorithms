{
 "cells": [
  {
   "cell_type": "markdown",
   "metadata": {},
   "source": [
    "# Linked List Cycle Check"
   ]
  },
  {
   "cell_type": "code",
   "execution_count": 3,
   "metadata": {
    "collapsed": true
   },
   "outputs": [],
   "source": [
    "class Node(object):\n",
    "    def __init__(self, value):\n",
    "        self.value = value\n",
    "        self.next = None"
   ]
  },
  {
   "cell_type": "code",
   "execution_count": 4,
   "metadata": {
    "collapsed": true
   },
   "outputs": [],
   "source": [
    "# def is_cycle(node):\n",
    "#     hash = {}\n",
    "#     while node is not None:\n",
    "#         if node.value in hash:\n",
    "#             if node in hash[node.value]:\n",
    "#                 return True\n",
    "#             hash[node.value].append(node)\n",
    "#         else:\n",
    "#             hash[node.value] = [node]\n",
    "            \n",
    "#         node = node.next\n",
    "#     return False"
   ]
  },
  {
   "cell_type": "code",
   "execution_count": 9,
   "metadata": {
    "collapsed": true
   },
   "outputs": [],
   "source": [
    "def is_cycle(node):\n",
    "    turtle = node\n",
    "    hare = node.next\n",
    "    while hare is not None and hare.next is not None:\n",
    "        if hare == turtle:\n",
    "            return True\n",
    "        turtle = turtle.next\n",
    "        hare = hare.next.next\n",
    "        \n",
    "    return False\n",
    "        "
   ]
  },
  {
   "cell_type": "code",
   "execution_count": 12,
   "metadata": {},
   "outputs": [
    {
     "name": "stdout",
     "output_type": "stream",
     "text": [
      "True\n",
      "False\n",
      "False\n"
     ]
    }
   ],
   "source": [
    "# cycle\n",
    "a = Node('a')\n",
    "b = Node('b')\n",
    "c = Node('c')\n",
    "a.next = b\n",
    "b.next = c\n",
    "c.next = a\n",
    "print(is_cycle(a))\n",
    "\n",
    "# non-cycle\n",
    "e = Node('e')\n",
    "f = Node('f')\n",
    "g = Node('g')\n",
    "e.next = f\n",
    "f.next = g\n",
    "print(is_cycle(e))\n",
    "\n",
    "# non-cycle\n",
    "foo = Node('e')\n",
    "bar = Node('f')\n",
    "foo.next = bar\n",
    "print(is_cycle(e))"
   ]
  },
  {
   "cell_type": "code",
   "execution_count": null,
   "metadata": {
    "collapsed": true
   },
   "outputs": [],
   "source": []
  }
 ],
 "metadata": {
  "kernelspec": {
   "display_name": "Python 3",
   "language": "python",
   "name": "python3"
  },
  "language_info": {
   "codemirror_mode": {
    "name": "ipython",
    "version": 3
   },
   "file_extension": ".py",
   "mimetype": "text/x-python",
   "name": "python",
   "nbconvert_exporter": "python",
   "pygments_lexer": "ipython3",
   "version": "3.6.3"
  }
 },
 "nbformat": 4,
 "nbformat_minor": 2
}
