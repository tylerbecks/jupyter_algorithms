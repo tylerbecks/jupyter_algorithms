{
 "cells": [
  {
   "cell_type": "code",
   "execution_count": 9,
   "metadata": {
    "collapsed": true
   },
   "outputs": [],
   "source": [
    "class Node:\n",
    "    def __init__(self, data=0, next_node=None):\n",
    "        self.data = data\n",
    "        self.next = next_node\n",
    "        \n",
    "class LinkedList:\n",
    "    def __init__(self, data=None):\n",
    "        node = Node(data) if data is not None else None\n",
    "        self.head = node\n",
    "        self.tail = node\n",
    "        \n",
    "    def insert_front(self, data):\n",
    "        new_node = Node(data)\n",
    "        if self.head is None:\n",
    "            self.fill_head_and_tail(new_node)\n",
    "            return\n",
    "    \n",
    "        new_node.next = self.head\n",
    "        self.head = new_node\n",
    "        \n",
    "    def insert_back(self, data):\n",
    "        new_node = Node(data)\n",
    "        if self.head is None:\n",
    "            self.fill_head_and_tail(new_node)\n",
    "            return\n",
    "\n",
    "        self.tail.next = new_node\n",
    "        self.tail = new_node\n",
    "\n",
    "    def fill_head_and_tail(self, node):\n",
    "        self.head = node\n",
    "        self.tail = node\n",
    "        \n",
    "    def delete_head(self):\n",
    "        if self.head is None:\n",
    "            return\n",
    "        if self.head == self.tail:\n",
    "            self.head = None\n",
    "            self.tail = None\n",
    "            return\n",
    "        \n",
    "        self.head = self.head.next\n",
    "        \n",
    "    def search(self, data):\n",
    "        node = self.head\n",
    "        while node.data != data:\n",
    "            print(node.data)\n",
    "            if node.next is None:\n",
    "                return 'Not found!'\n",
    "            node = node.next\n",
    "\n",
    "        return node.data\n",
    "    \n",
    "    def print_all(self):\n",
    "        print('PRINTING ALL')\n",
    "        node = self.head\n",
    "        while (node != None):\n",
    "            if node is self.head and node is self.tail:\n",
    "                print('head and tail: {}'.format(node.data))\n",
    "            elif node is self.head:\n",
    "                print('head: {}'.format(node.data))\n",
    "            elif node is self.tail:\n",
    "                print('tail: {}'.format(node.data))\n",
    "            else:\n",
    "                print(node.data)\n",
    "            \n",
    "            node = node.next\n",
    "            \n",
    "    def convert_to_list(self):\n",
    "        arr = []\n",
    "        node = self.head\n",
    "        while node is not None:\n",
    "            arr.append(node.data)\n",
    "            node = node.next\n",
    "        \n",
    "        return arr\n"
   ]
  },
  {
   "cell_type": "code",
   "execution_count": 12,
   "metadata": {},
   "outputs": [
    {
     "name": "stdout",
     "output_type": "stream",
     "text": [
      "PRINTING ALL\n",
      "head: vv\n",
      "tyler\n",
      "tail: ross\n"
     ]
    }
   ],
   "source": [
    "linked = LinkedList('tyler')\n",
    "linked.insert_back('ross')\n",
    "linked.insert_front('vv')\n",
    "linked.print_all()"
   ]
  },
  {
   "cell_type": "code",
   "execution_count": null,
   "metadata": {
    "collapsed": true
   },
   "outputs": [],
   "source": []
  }
 ],
 "metadata": {
  "kernelspec": {
   "display_name": "Python 2",
   "language": "python",
   "name": "python2"
  },
  "language_info": {
   "codemirror_mode": {
    "name": "ipython",
    "version": 2
   },
   "file_extension": ".py",
   "mimetype": "text/x-python",
   "name": "python",
   "nbconvert_exporter": "python",
   "pygments_lexer": "ipython2",
   "version": "2.7.14"
  }
 },
 "nbformat": 4,
 "nbformat_minor": 2
}
