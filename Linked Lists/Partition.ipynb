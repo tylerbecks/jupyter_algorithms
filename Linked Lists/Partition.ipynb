{
 "cells": [
  {
   "cell_type": "markdown",
   "metadata": {},
   "source": [
    "# Partition"
   ]
  },
  {
   "cell_type": "markdown",
   "metadata": {},
   "source": [
    "Write code to partition a linked list around a value x, such that all nodes less than x come before all nodes greater than or equal to x.\n",
    "\n",
    "If x is contained within the list, the values of x only need to be after the elements less than x (see below).  The partition element x can appear anywhere in the \"right partition\"; it does not need to appear between the left and right partitions.\n",
    "<br>\n",
    "<b>EXAMPLE</b>\n",
    "<br>\n",
    "<b>Input:</b> 3 -> 5 -> 8 -> 5 -> 10 -> 2 -> 1 (partition = 5)\n",
    "<br>\n",
    "<b>Output:</b> 3 -> 1 -> 2 -> 10 -> 5 -> 5 -> 8"
   ]
  },
  {
   "cell_type": "code",
   "execution_count": 1,
   "metadata": {
    "collapsed": true
   },
   "outputs": [],
   "source": [
    "class Node:\n",
    "    def __init__(self, data=None):\n",
    "        self.data = data\n",
    "        self.next = None"
   ]
  },
  {
   "cell_type": "code",
   "execution_count": 11,
   "metadata": {
    "collapsed": true
   },
   "outputs": [],
   "source": [
    "def partition(a, num):\n",
    "    while a is not None:\n",
    "        if a.data >= num:\n",
    "            runner = a.next\n",
    "            while runner is not None:\n",
    "                if runner.data < num:\n",
    "                    a.data, runner.data = runner.data, a.data\n",
    "                    break\n",
    "                runner = runner.next\n",
    "        \n",
    "        a = a.next"
   ]
  },
  {
   "cell_type": "code",
   "execution_count": 12,
   "metadata": {},
   "outputs": [
    {
     "name": "stdout",
     "output_type": "stream",
     "text": [
      "3\n",
      "2\n",
      "1\n",
      "5\n",
      "10\n",
      "5\n",
      "8\n"
     ]
    }
   ],
   "source": [
    "a = Node(3)\n",
    "b = Node(5)\n",
    "c = Node(8)\n",
    "d = Node(5)\n",
    "e = Node(10)\n",
    "f = Node(2)\n",
    "g = Node(1)\n",
    "a.next = b\n",
    "b.next = c\n",
    "c.next = d\n",
    "d.next = e\n",
    "e.next = f\n",
    "f.next = g\n",
    "\n",
    "partition(a, 5)\n",
    "while a is not None:\n",
    "    print(a.data)\n",
    "    a = a.next\n",
    "    "
   ]
  },
  {
   "cell_type": "code",
   "execution_count": null,
   "metadata": {
    "collapsed": true
   },
   "outputs": [],
   "source": []
  }
 ],
 "metadata": {
  "kernelspec": {
   "display_name": "Python 3",
   "language": "python",
   "name": "python3"
  },
  "language_info": {
   "codemirror_mode": {
    "name": "ipython",
    "version": 3
   },
   "file_extension": ".py",
   "mimetype": "text/x-python",
   "name": "python",
   "nbconvert_exporter": "python",
   "pygments_lexer": "ipython3",
   "version": "3.6.3"
  }
 },
 "nbformat": 4,
 "nbformat_minor": 2
}
