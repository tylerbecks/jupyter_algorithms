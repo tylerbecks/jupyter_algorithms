{
 "cells": [
  {
   "cell_type": "markdown",
   "metadata": {},
   "source": [
    "# Partition"
   ]
  },
  {
   "cell_type": "markdown",
   "metadata": {},
   "source": [
    "Write code to partition a linked list around a value x, such that all nodes less than x come before all nodes greater than or equal to x.\n",
    "\n",
    "If x is contained within the list, the values of x only need to be after the elements less than x (see below).  The partition element x can appear anywhere in the \"right partition\"; it does not need to appear between the left and right partitions.\n",
    "<br>\n",
    "<b>EXAMPLE</b>\n",
    "<br>\n",
    "<b>Input:</b> 3 -> 5 -> 8 -> 5 -> 10 -> 2 -> 1 (partition = 5)\n",
    "<br>\n",
    "<b>Output:</b> 3 -> 1 -> 2 -> 10 -> 5 -> 5 -> 8"
   ]
  },
  {
   "cell_type": "code",
   "execution_count": 5,
   "metadata": {
    "collapsed": true
   },
   "outputs": [],
   "source": [
    "class Node:\n",
    "    def __init__(self, data=0, next_node=None):\n",
    "        self.data = data\n",
    "        self.next = next_node\n",
    "        \n",
    "class LinkedList:\n",
    "    def __init__(self, data=None):\n",
    "        node = Node(data) if data is not None else None\n",
    "        self.head = node\n",
    "        self.tail = node\n",
    "        \n",
    "    def add(self, data):\n",
    "        new_node = Node(data)\n",
    "        if self.head is None:\n",
    "            self.fill_head_and_tail(new_node)\n",
    "            return\n",
    "\n",
    "        self.tail.next = new_node\n",
    "        self.tail = new_node\n",
    "\n",
    "    def fill_head_and_tail(self, node):\n",
    "        self.head = node\n",
    "        self.tail = node\n",
    "\n",
    "    def print_all(self):\n",
    "        print('PRINTING ALL')\n",
    "        node = self.head\n",
    "        while (node != None):\n",
    "            if node is self.head and node is self.tail:\n",
    "                print('head and tail: {}'.format(node.data))\n",
    "            elif node is self.head:\n",
    "                print('head: {}'.format(node.data))\n",
    "            elif node is self.tail:\n",
    "                print('tail: {}'.format(node.data))\n",
    "            else:\n",
    "                print(node.data)\n",
    "            \n",
    "            node = node.next\n",
    "            \n",
    "    def convert_to_list(self):\n",
    "        arr = []\n",
    "        node = self.head\n",
    "        while node is not None:\n",
    "            arr.append(node.data)\n",
    "            node = node.next\n",
    "        \n",
    "        return arr\n",
    "    \n",
    "    def partition(self, partition):\n",
    "        current = self.head\n",
    "        while current is not None:\n",
    "            if current.data >= partition:\n",
    "                node = current.next\n",
    "                while node is not None:\n",
    "                    if node.data < partition:\n",
    "                        temp = current.data\n",
    "                        current.data = node.data\n",
    "                        node.data = temp\n",
    "                        break\n",
    "                    node = node.next\n",
    "            current = current.next\n"
   ]
  },
  {
   "cell_type": "code",
   "execution_count": 11,
   "metadata": {},
   "outputs": [
    {
     "name": "stdout",
     "output_type": "stream",
     "text": [
      "[3, 5, 8, 5, 10, 2, 1]\n",
      "[3, 5, 8, 5, 10, 2, 1]\n"
     ]
    }
   ],
   "source": [
    "ll = LinkedList(3)\n",
    "ll.add(5)\n",
    "ll.add(8)\n",
    "ll.add(5)\n",
    "ll.add(10)\n",
    "ll.add(2)\n",
    "ll.add(1)\n",
    "print(ll.convert_to_list())\n",
    "ll.partition(11)\n",
    "print(ll.convert_to_list())"
   ]
  },
  {
   "cell_type": "code",
   "execution_count": 16,
   "metadata": {},
   "outputs": [
    {
     "name": "stdout",
     "output_type": "stream",
     "text": [
      "[3]\n",
      "[3]\n"
     ]
    }
   ],
   "source": [
    "ll = LinkedList(3)\n",
    "print(ll.convert_to_list())\n",
    "ll.partition(0)\n",
    "print(ll.convert_to_list())"
   ]
  },
  {
   "cell_type": "code",
   "execution_count": null,
   "metadata": {
    "collapsed": true
   },
   "outputs": [],
   "source": []
  }
 ],
 "metadata": {
  "kernelspec": {
   "display_name": "Python 2",
   "language": "python",
   "name": "python2"
  },
  "language_info": {
   "codemirror_mode": {
    "name": "ipython",
    "version": 2
   },
   "file_extension": ".py",
   "mimetype": "text/x-python",
   "name": "python",
   "nbconvert_exporter": "python",
   "pygments_lexer": "ipython2",
   "version": "2.7.14"
  }
 },
 "nbformat": 4,
 "nbformat_minor": 2
}
