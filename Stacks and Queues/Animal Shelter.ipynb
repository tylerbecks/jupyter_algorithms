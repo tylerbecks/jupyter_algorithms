{
 "cells": [
  {
   "cell_type": "markdown",
   "metadata": {},
   "source": [
    "# Animal Shelter"
   ]
  },
  {
   "cell_type": "markdown",
   "metadata": {},
   "source": [
    "An animal shelter, which holds only dogs and cats, operates on a strictly \"first in, first out\" basis.  People must adopt either the \"oldest\", (based on arrival time) of all animals at the shelter, or they can select whether they would prefer a dog or a cat (and will receive the oldest animal of that type).  They cannot select which specific animal they would like.  Create the data structure to maintain this system and implement operation such as `enqueue`, `dequeue_any`, `dequeue_dog`, and `dequeue_cat`.  You may use the built in `LinkedList` data structure."
   ]
  },
  {
   "cell_type": "code",
   "execution_count": 2,
   "metadata": {
    "collapsed": true
   },
   "outputs": [],
   "source": [
    "class Node:\n",
    "    def __init__(self, data=None):\n",
    "        self.data = data\n",
    "        self.next = None"
   ]
  },
  {
   "cell_type": "code",
   "execution_count": 5,
   "metadata": {
    "collapsed": true
   },
   "outputs": [],
   "source": [
    "class LinkedList:\n",
    "    def __init__(self, data=None):\n",
    "        node = Node(data) if data is not None else None\n",
    "        self.head = node\n",
    "        self.tail = node\n",
    "        \n",
    "    def insert(self, data):\n",
    "        new_node = Node(data)\n",
    "        if self.head is None:\n",
    "            self.fill_head_and_tail(new_node)\n",
    "            return\n",
    "\n",
    "        self.tail.next = new_node\n",
    "        self.tail = new_node\n",
    "\n",
    "    def fill_head_and_tail(self, node):\n",
    "        self.head = node\n",
    "        self.tail = node\n",
    "        \n",
    "    def delete_head(self):\n",
    "        if self.head is None:\n",
    "            return\n",
    "        if self.head == self.tail:\n",
    "            self.head = None\n",
    "            self.tail = None\n",
    "            return\n",
    "        \n",
    "        self.head = self.head.next\n",
    "        \n",
    "    def search(self, data):\n",
    "        node = self.head\n",
    "        while node.data != data:\n",
    "            print(node.data)\n",
    "            if node.next is None:\n",
    "                return 'Not found!'\n",
    "            node = node.next\n",
    "\n",
    "        return node.data\n",
    "    \n",
    "    def print_all(self):\n",
    "        print('PRINTING ALL')\n",
    "        node = self.head\n",
    "        while (node != None):\n",
    "            if node is self.head and node is self.tail:\n",
    "                print('head and tail: {}'.format(node.data))\n",
    "            elif node is self.head:\n",
    "                print('head: {}'.format(node.data))\n",
    "            elif node is self.tail:\n",
    "                print('tail: {}'.format(node.data))\n",
    "            else:\n",
    "                print(node.data)\n",
    "            \n",
    "            node = node.next\n",
    "            \n",
    "    def convert_to_list(self):\n",
    "        arr = []\n",
    "        node = self.head\n",
    "        while node is not None:\n",
    "            arr.append(node.data)\n",
    "            node = node.next\n",
    "        \n",
    "        return arr"
   ]
  },
  {
   "cell_type": "code",
   "execution_count": 4,
   "metadata": {
    "collapsed": true
   },
   "outputs": [],
   "source": [
    "class AnimalShelter:\n",
    "    def __init__(self):\n",
    "        self.animals = LinkedList()\n",
    "        \n",
    "    def enqueue(self, animal):\n",
    "        self.animals.insert(animal)\n",
    "    \n",
    "    def dequeue_any(self):\n",
    "        \n",
    "    \n",
    "    def dequeue_dog(self):\n",
    "        \n",
    "\n",
    "    def dequeue_cat(self):\n",
    "        "
   ]
  }
 ],
 "metadata": {
  "kernelspec": {
   "display_name": "Python 3",
   "language": "python",
   "name": "python3"
  },
  "language_info": {
   "codemirror_mode": {
    "name": "ipython",
    "version": 3
   },
   "file_extension": ".py",
   "mimetype": "text/x-python",
   "name": "python",
   "nbconvert_exporter": "python",
   "pygments_lexer": "ipython3",
   "version": "3.6.3"
  }
 },
 "nbformat": 4,
 "nbformat_minor": 2
}
