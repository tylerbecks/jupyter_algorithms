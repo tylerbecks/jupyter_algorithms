{
 "cells": [
  {
   "cell_type": "markdown",
   "metadata": {},
   "source": [
    "# Stack of Plates "
   ]
  },
  {
   "cell_type": "markdown",
   "metadata": {},
   "source": [
    "Imagine a (literal) stack of plates.  If the stack gets too high, it might topple.  Therefore, in real life, we would likely start a new stack when the previous stack exceeds some threshold.  Implement a data structure `SetOfStacks` that mimics this.  `SetOfStacks` should be composed of several stacks and should create a new stack once the previous one exceeds capacity.  `SetOfStacks.push()` and `SetOfStacks.pop()` should behave identically to a single stack.\n",
    "\n",
    "FOLLOW UP\n",
    "<br>Implement a function `popAt(index)` which performs a pop operation on a specific sub-stack."
   ]
  },
  {
   "cell_type": "code",
   "execution_count": 15,
   "metadata": {
    "collapsed": true
   },
   "outputs": [],
   "source": [
    "class Stack:\n",
    "    def __init__(self):\n",
    "        self.items = []\n",
    "\n",
    "    def isEmpty(self):\n",
    "        return self.items == []\n",
    "\n",
    "    def push(self, item):\n",
    "        return self.items.append(item)\n",
    "\n",
    "    def pop(self):\n",
    "        return self.items.pop()\n",
    "\n",
    "    def peek(self):\n",
    "        return None if len(self.items) == 0 else self.items[-1]\n",
    "\n",
    "    def size(self):\n",
    "        return len(self.items)\n"
   ]
  },
  {
   "cell_type": "code",
   "execution_count": 18,
   "metadata": {},
   "outputs": [],
   "source": [
    "class SetOfStacks:\n",
    "    def __init__(self):\n",
    "        self.threshold = 3\n",
    "        self.stacks = [Stack()]\n",
    "        \n",
    "    def push(self, item):\n",
    "        latest = self.stacks[-1]\n",
    "        if latest.size() == self.threshold:\n",
    "            next_stack = Stack()\n",
    "            next_stack.push(item)\n",
    "            self.stacks.append(next_stack)\n",
    "        else:\n",
    "            latest.push(item)\n",
    "        \n",
    "    def pop(self):\n",
    "        latest = self.stacks[-1]\n",
    "        popped = latest.pop()\n",
    "        if latest.size() == 0:\n",
    "            self.stacks.pop()\n",
    "\n",
    "        return popped\n",
    "    \n",
    "    def popAt(self, index):\n",
    "        selected_stack = self.stacks[index]\n",
    "        popped = selected_stack.pop()\n",
    "        self.shift(index)\n",
    "        return popped\n",
    "        \n",
    "    def shift(self, index):\n",
    "        for i in range(index, len(self.stacks) - 1):\n",
    "            current_stack = self.stacks[i]\n",
    "            next_stack = self.stacks[i + 1]\n",
    "            current_stack.push(next_stack.pop())\n",
    "            if next_stack.size() == 0:\n",
    "                self.stacks.pop()\n",
    "        \n",
    "        "
   ]
  },
  {
   "cell_type": "code",
   "execution_count": 21,
   "metadata": {},
   "outputs": [
    {
     "name": "stdout",
     "output_type": "stream",
     "text": [
      "6\n",
      "9\n"
     ]
    }
   ],
   "source": [
    "s = SetOfStacks()\n",
    "s.push(1)\n",
    "s.push(2)\n",
    "s.push(3)\n",
    "s.push(4)\n",
    "s.push(5)\n",
    "s.push(6)\n",
    "s.push(7)\n",
    "s.push(8)\n",
    "s.push(9)\n",
    "s.push(10)\n",
    "print(s.popAt(1))\n",
    "print(s.popAt(1))"
   ]
  },
  {
   "cell_type": "code",
   "execution_count": null,
   "metadata": {
    "collapsed": true
   },
   "outputs": [],
   "source": []
  }
 ],
 "metadata": {
  "kernelspec": {
   "display_name": "Python 3",
   "language": "python",
   "name": "python3"
  },
  "language_info": {
   "codemirror_mode": {
    "name": "ipython",
    "version": 3
   },
   "file_extension": ".py",
   "mimetype": "text/x-python",
   "name": "python",
   "nbconvert_exporter": "python",
   "pygments_lexer": "ipython3",
   "version": "3.6.3"
  }
 },
 "nbformat": 4,
 "nbformat_minor": 2
}
