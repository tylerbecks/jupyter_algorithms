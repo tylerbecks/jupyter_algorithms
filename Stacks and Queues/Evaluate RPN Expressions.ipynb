{
 "cells": [
  {
   "cell_type": "markdown",
   "metadata": {},
   "source": [
    "# Evaluate RPN Expressions"
   ]
  },
  {
   "cell_type": "markdown",
   "metadata": {},
   "source": [
    "A string is said to be an arithmetical expression in Reverse Polish notation (RPN) if:\n",
    "1. It is a single digit or a sequence of digits prefixed with -\n",
    "    - \"6\", \"123\", \"-42\"\n",
    "2. It is of the form \"A,B,o\", where A and B are RPN expressions and o is one of +, -, x, /\n",
    "    - \"1729\"\n",
    "    - \"3, 4, +, 2, x, 1, +\" => (3 + 4) x 2 + 1\n",
    "    - \"1, 1, +, -2, x\"\n",
    "    - \"-641, 6, /, 28, /\"\n",
    "\n",
    "For example, the following expression can be evaluated uniquely to an integer, which is determined recursively. The base case corresponds to Rule 1, which is an integer expressed in base-10 positional system.  Rule 2 corresponds to the recursive case, and the RPNs are evaluated in the natural way, e.g. if A evaluates to 2 and B evaluates to 3, then \"A,B,x\" evaluates to 6.\n",
    "\n",
    "Write a program that takes an arithmetical expression in RPN and returns the number that the expression evaluates to.\n",
    "<br>*Hint:  Process subexpressions, keeping values in a stack.  How should operators be handled?*"
   ]
  },
  {
   "cell_type": "code",
   "execution_count": 7,
   "metadata": {
    "collapsed": true
   },
   "outputs": [],
   "source": [
    "def evaluate(string):\n",
    "    operators = ['+', '-', '*', '/']\n",
    "    parts = string.split(',')\n",
    "    stack = []\n",
    "    while parts:\n",
    "        while parts and parts[0] is not in operators:\n",
    "            stack.append(parts.pop())\n",
    "        operator = parts.pop()\n",
    "        stack.append()\n",
    "    return int(stack[0])"
   ]
  },
  {
   "cell_type": "code",
   "execution_count": 9,
   "metadata": {},
   "outputs": [
    {
     "data": {
      "text/plain": [
       "3"
      ]
     },
     "execution_count": 9,
     "metadata": {},
     "output_type": "execute_result"
    }
   ],
   "source": [
    "evaluate('3,4,+,2,*,1,+')"
   ]
  },
  {
   "cell_type": "code",
   "execution_count": null,
   "metadata": {
    "collapsed": true
   },
   "outputs": [],
   "source": []
  }
 ],
 "metadata": {
  "kernelspec": {
   "display_name": "Python 3",
   "language": "python",
   "name": "python3"
  },
  "language_info": {
   "codemirror_mode": {
    "name": "ipython",
    "version": 3
   },
   "file_extension": ".py",
   "mimetype": "text/x-python",
   "name": "python",
   "nbconvert_exporter": "python",
   "pygments_lexer": "ipython3",
   "version": "3.6.3"
  }
 },
 "nbformat": 4,
 "nbformat_minor": 2
}
