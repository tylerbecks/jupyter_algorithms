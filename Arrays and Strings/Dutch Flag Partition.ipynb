{
 "cells": [
  {
   "cell_type": "markdown",
   "metadata": {},
   "source": [
    "# Dutch Flag Partition"
   ]
  },
  {
   "cell_type": "markdown",
   "metadata": {},
   "source": [
    "Write a function that takes an array A and an index i into A, and rearranges the elements such that all elements less than A[i] (the \"pivot\") appear first, followed by elements equal to the pivot, followed by elements greater than the pivot."
   ]
  },
  {
   "cell_type": "code",
   "execution_count": 1,
   "metadata": {
    "collapsed": true
   },
   "outputs": [],
   "source": [
    "# def dutch_flag_partition(array, pivot_index):\n",
    "#     pivot = array[pivot_index]\n",
    "#     smaller = 0\n",
    "#     larger = len(array)\n",
    "#     current = 0\n",
    "#     while (current < larger):\n",
    "#         if array[current] < pivot:\n",
    "#             array[smaller], array[current] = array[current], array[smaller]\n",
    "#             smaller += 1\n",
    "#             current += 1\n",
    "#         elif array[current] > pivot:\n",
    "#             larger -= 1\n",
    "#             array[larger], array[current] = array[current], array[larger]\n",
    "#         else:\n",
    "#             current += 1\n",
    "#     return array\n"
   ]
  },
  {
   "cell_type": "code",
   "execution_count": 3,
   "metadata": {
    "collapsed": true
   },
   "outputs": [],
   "source": [
    "def dutch_flag_partition(array, pivot):\n",
    "    small = 0\n",
    "    big = len(array) - 1\n",
    "    i = 0\n",
    "    while i <= big:\n",
    "        if array[i] < pivot:\n",
    "            array[small], array[i] = array[i], array[small]\n",
    "            small += 1\n",
    "            i += 1\n",
    "        elif array[i] > pivot:\n",
    "            array[big], array[i] = array[i], array[big]\n",
    "            big -= 1\n",
    "        else:\n",
    "            i += 1\n",
    "            \n",
    "    return array"
   ]
  },
  {
   "cell_type": "code",
   "execution_count": 6,
   "metadata": {},
   "outputs": [
    {
     "name": "stdout",
     "output_type": "stream",
     "text": [
      "first [0, 2, 3, 2, 1, 1, 1]\n",
      "second [0, 1, 1, 1, 2, 3, 2]\n",
      "third [0, 1, 1, 1, 2, 2, 3]\n"
     ]
    }
   ],
   "source": [
    "array = [0, 1, 2, 3, 2, 1, 1]\n",
    "print('first', dutch_flag_partition(array[:], 0))\n",
    "print('second', dutch_flag_partition(array[:], 1))\n",
    "print('third', dutch_flag_partition(array[:], 2))\n"
   ]
  },
  {
   "cell_type": "code",
   "execution_count": null,
   "metadata": {
    "collapsed": true
   },
   "outputs": [],
   "source": []
  },
  {
   "cell_type": "code",
   "execution_count": null,
   "metadata": {
    "collapsed": true
   },
   "outputs": [],
   "source": []
  }
 ],
 "metadata": {
  "kernelspec": {
   "display_name": "Python 3",
   "language": "python",
   "name": "python3"
  },
  "language_info": {
   "codemirror_mode": {
    "name": "ipython",
    "version": 3
   },
   "file_extension": ".py",
   "mimetype": "text/x-python",
   "name": "python",
   "nbconvert_exporter": "python",
   "pygments_lexer": "ipython3",
   "version": "3.6.3"
  }
 },
 "nbformat": 4,
 "nbformat_minor": 2
}
