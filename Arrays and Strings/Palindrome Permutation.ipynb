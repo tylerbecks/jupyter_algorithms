{
 "cells": [
  {
   "cell_type": "markdown",
   "metadata": {},
   "source": [
    "# Palindrome Permutation"
   ]
  },
  {
   "cell_type": "markdown",
   "metadata": {},
   "source": [
    "Given a string, wirte a function to check if it is a permutation of a palindrome. The palindrome does not need to be limited to just dictionary words.\n",
    "\n",
    "**palindrome**: a word or phrase that is the same forwards and backwards\n",
    "\n",
    "**permutation**: a rearrangement of letters\n",
    "\n",
    "Example:\n",
    "Input: Tact Coa\n",
    "Output: True (permutations: \"taco cat\", \"atco cta\", etc.)"
   ]
  },
  {
   "cell_type": "code",
   "execution_count": null,
   "metadata": {
    "collapsed": true
   },
   "outputs": [],
   "source": [
    "def is_palindrome_permutation(string):\n",
    "    obj = hashify(string)\n",
    "    odd_found = False\n",
    "    for x in string.lower():\n",
    "        if x == ' ':\n",
    "            continue\n",
    "        if is_odd(obj[x]):\n",
    "            if odd_found:\n",
    "                return False\n",
    "            odd_found = True\n",
    "\n",
    "    return True\n",
    "        \n",
    "        \n",
    "def is_odd(number):\n",
    "    return number % 2 != 0\n",
    "        \n",
    "def hashify(string):\n",
    "    hash = {}\n",
    "    for x in string.lower():\n",
    "        if x == ' ':\n",
    "            continue\n",
    "        if x in hash:\n",
    "            hash[x] += 1\n",
    "        else:\n",
    "            hash[x] = 1\n",
    "            \n",
    "    return hash"
   ]
  },
  {
   "cell_type": "code",
   "execution_count": 9,
   "metadata": {},
   "outputs": [
    {
     "name": "stdout",
     "output_type": "stream",
     "text": [
      "True\n",
      "True\n",
      "False\n"
     ]
    }
   ],
   "source": [
    "print(is_palindrome_permutation('tAct Coa'))\n",
    "print(is_palindrome_permutation('mm'))\n",
    "print(is_palindrome_permutation('mmna'))"
   ]
  },
  {
   "cell_type": "code",
   "execution_count": null,
   "metadata": {
    "collapsed": true
   },
   "outputs": [],
   "source": []
  }
 ],
 "metadata": {
  "kernelspec": {
   "display_name": "Python 2",
   "language": "python",
   "name": "python2"
  },
  "language_info": {
   "codemirror_mode": {
    "name": "ipython",
    "version": 2
   },
   "file_extension": ".py",
   "mimetype": "text/x-python",
   "name": "python",
   "nbconvert_exporter": "python",
   "pygments_lexer": "ipython2",
   "version": "2.7.14"
  }
 },
 "nbformat": 4,
 "nbformat_minor": 2
}
