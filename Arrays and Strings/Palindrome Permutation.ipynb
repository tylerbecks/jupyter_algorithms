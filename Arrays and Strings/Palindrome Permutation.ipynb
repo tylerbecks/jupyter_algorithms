{
 "cells": [
  {
   "cell_type": "markdown",
   "metadata": {},
   "source": [
    "# Palindrome Permutation"
   ]
  },
  {
   "cell_type": "markdown",
   "metadata": {},
   "source": [
    "Given a string, wirte a function to check if it is a permutation of a palindrome. The palindrome does not need to be limited to just dictionary words.\n",
    "\n",
    "**palindrome**: a word or phrase that is the same forwards and backwards\n",
    "\n",
    "**permutation**: a rearrangement of letters\n",
    "\n",
    "Example:\n",
    "Input: Tact Coa\n",
    "Output: True (permutations: \"taco cat\", \"atco cta\", etc.)"
   ]
  },
  {
   "cell_type": "code",
   "execution_count": 3,
   "metadata": {
    "collapsed": true
   },
   "outputs": [],
   "source": [
    "def hashify(string):\n",
    "    result = {}\n",
    "    for char in string:\n",
    "        if char == ' ':\n",
    "            continue\n",
    "        if char in result:\n",
    "            result[char] += 1\n",
    "        else:\n",
    "            result[char] = 1\n",
    "            \n",
    "    return result"
   ]
  },
  {
   "cell_type": "code",
   "execution_count": 4,
   "metadata": {
    "collapsed": true
   },
   "outputs": [],
   "source": [
    "def is_palindrome_permutation(string):\n",
    "    char_counts = hashify(string.lower())\n",
    "    odds = 0\n",
    "    for char, count in char_counts.items():\n",
    "        if count % 2 != 0:\n",
    "            if odds == 1:\n",
    "                return False\n",
    "            odds = 1\n",
    "\n",
    "    return True\n"
   ]
  },
  {
   "cell_type": "code",
   "execution_count": 5,
   "metadata": {},
   "outputs": [
    {
     "name": "stdout",
     "output_type": "stream",
     "text": [
      "True\n",
      "True\n",
      "False\n"
     ]
    }
   ],
   "source": [
    "print(is_palindrome_permutation('tAct Coa'))\n",
    "print(is_palindrome_permutation('mm'))\n",
    "print(is_palindrome_permutation('mmna'))"
   ]
  }
 ],
 "metadata": {
  "kernelspec": {
   "display_name": "Python 3",
   "language": "python",
   "name": "python3"
  },
  "language_info": {
   "codemirror_mode": {
    "name": "ipython",
    "version": 3
   },
   "file_extension": ".py",
   "mimetype": "text/x-python",
   "name": "python",
   "nbconvert_exporter": "python",
   "pygments_lexer": "ipython3",
   "version": "3.6.3"
  }
 },
 "nbformat": 4,
 "nbformat_minor": 2
}
