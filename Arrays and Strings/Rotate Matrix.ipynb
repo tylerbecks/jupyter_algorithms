{
 "cells": [
  {
   "cell_type": "markdown",
   "metadata": {},
   "source": [
    "# Rotate Matrix"
   ]
  },
  {
   "cell_type": "markdown",
   "metadata": {},
   "source": [
    "Given an image represented by an NxN matrix, where each pixel in the image is 4 bytes, write a method to rotate the image by 90 degrees.\n",
    "<br>Can you do this in place?"
   ]
  },
  {
   "cell_type": "code",
   "execution_count": 1,
   "metadata": {
    "collapsed": true
   },
   "outputs": [],
   "source": [
    "# def rotate(array):\n",
    "#     rotated = [range(len(row)) for row in array]\n",
    "#     for rowIndex, row in enumerate(array):\n",
    "#         for cellIndex, cell in enumerate(row):\n",
    "#             rotated[cellIndex][len(row) - 1 - rowIndex] = cell\n",
    "#     return rotated"
   ]
  },
  {
   "cell_type": "code",
   "execution_count": 26,
   "metadata": {
    "collapsed": true
   },
   "outputs": [],
   "source": [
    "# def rotate_in_place(array):\n",
    "#     row = 0\n",
    "#     col = 1\n",
    "#     while col < len(array[row]):\n",
    "#         temp = array[col][len(array[row]) - 1 - row]\n",
    "#         array[col][len(array[row]) - 1 - row] = array[row][col]\n",
    "#         array[row][col] = temp\n",
    "#         col += 1\n",
    "#     return array"
   ]
  },
  {
   "cell_type": "code",
   "execution_count": null,
   "metadata": {
    "collapsed": true
   },
   "outputs": [],
   "source": [
    "def rotate(array):\n",
    "    return array"
   ]
  },
  {
   "cell_type": "markdown",
   "metadata": {},
   "source": [
    "(0, 0) => (0, 3) <br>\n",
    "(0, 1) => (1, 3) <br>\n",
    "(0, 2) => (2, 3) <br>\n",
    "(0, 3) => (3, 3) <br>\n",
    "(1, 0) => (0, 2) <br>\n",
    "(1, 1) => (1, 1) <br>"
   ]
  },
  {
   "cell_type": "code",
   "execution_count": 27,
   "metadata": {},
   "outputs": [
    {
     "name": "stdout",
     "output_type": "stream",
     "text": [
      "(['a', 'h', 'l', 'p'], ['m', 'i', 'e', 'a'])\n",
      "(['e', 'f', 'g', 'b'], ['n', 'j', 'f', 'b'])\n",
      "(['i', 'j', 'k', 'c'], ['o', 'k', 'g', 'c'])\n",
      "(['m', 'n', 'o', 'd'], ['p', 'l', 'h', 'd'])\n"
     ]
    }
   ],
   "source": [
    "photo = [\n",
    "    ['a', 'b', 'c', 'd'],\n",
    "    ['e', 'f', 'g', 'h'],\n",
    "    ['i', 'j', 'k', 'l'],\n",
    "    ['m', 'n', 'o', 'p'],\n",
    "]\n",
    "expected = [\n",
    "    ['m', 'i', 'e', 'a'],\n",
    "    ['n', 'j', 'f', 'b'],\n",
    "    ['o', 'k', 'g', 'c'],\n",
    "    ['p', 'l', 'h', 'd'],\n",
    "]\n",
    "rotated = rotate_in_place(photo)\n",
    "print(rotated[0], expected[0])\n",
    "print(rotated[1], expected[1])\n",
    "print(rotated[2], expected[2])\n",
    "print(rotated[3], expected[3])"
   ]
  },
  {
   "cell_type": "code",
   "execution_count": null,
   "metadata": {
    "collapsed": true
   },
   "outputs": [],
   "source": []
  }
 ],
 "metadata": {
  "kernelspec": {
   "display_name": "Python 2",
   "language": "python",
   "name": "python2"
  },
  "language_info": {
   "codemirror_mode": {
    "name": "ipython",
    "version": 2
   },
   "file_extension": ".py",
   "mimetype": "text/x-python",
   "name": "python",
   "nbconvert_exporter": "python",
   "pygments_lexer": "ipython2",
   "version": "2.7.14"
  }
 },
 "nbformat": 4,
 "nbformat_minor": 2
}
