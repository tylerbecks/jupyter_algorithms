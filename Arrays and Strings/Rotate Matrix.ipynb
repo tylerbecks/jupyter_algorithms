{
 "cells": [
  {
   "cell_type": "markdown",
   "metadata": {},
   "source": [
    "# Rotate Matrix"
   ]
  },
  {
   "cell_type": "markdown",
   "metadata": {},
   "source": [
    "Given an image represented by an NxN matrix, where each pixel in the image is 4 bytes, write a method to rotate the image by 90 degrees.\n",
    "<br>Can you do this in place?"
   ]
  },
  {
   "cell_type": "code",
   "execution_count": 19,
   "metadata": {
    "collapsed": true
   },
   "outputs": [],
   "source": [
    "def rotate(a):\n",
    "    for row in range(len(a) //2):\n",
    "        for col in range(row, len(a) - 1 - row):\n",
    "#             a[row][col] = a[~col][row]\n",
    "#             a[col][~row] = a[row][col]\n",
    "#             a[~row][~col] = a[col][~row]\n",
    "#             a[~col][row] = a[~row][~col]\n",
    "            a[row][col], a[col][~row], a[~row][~col], a[~col][row] = (\n",
    "            a[~col][row], a[row][col], a[col][~row], a[~row][~col])\n",
    "    return a"
   ]
  },
  {
   "cell_type": "code",
   "execution_count": 20,
   "metadata": {},
   "outputs": [
    {
     "name": "stdout",
     "output_type": "stream",
     "text": [
      "['m', 'i', 'e', 'a']\n",
      "['n', 'j', 'f', 'b']\n",
      "['o', 'k', 'g', 'c']\n",
      "['p', 'l', 'h', 'd']\n",
      "['m', 'i', 'e', 'a']\n",
      "['n', 'j', 'f', 'b']\n",
      "['o', 'k', 'g', 'c']\n",
      "['p', 'l', 'h', 'd']\n"
     ]
    }
   ],
   "source": [
    "i = [\n",
    "    ['a', 'b', 'c', 'd'],\n",
    "    ['e', 'f', 'g', 'h'],\n",
    "    ['i', 'j', 'k', 'l'],\n",
    "    ['m', 'n', 'o', 'p'],\n",
    "]\n",
    "o = [\n",
    "    ['m', 'i', 'e', 'a'],\n",
    "    ['n', 'j', 'f', 'b'],\n",
    "    ['o', 'k', 'g', 'c'],\n",
    "    ['p', 'l', 'h', 'd'],\n",
    "]\n",
    "\n",
    "rotate(i)\n",
    "for r in i:\n",
    "    print(r)\n",
    "    \n",
    "for r2 in o:\n",
    "    print(r2)\n",
    "    \n",
    "\n"
   ]
  },
  {
   "cell_type": "code",
   "execution_count": 21,
   "metadata": {},
   "outputs": [
    {
     "name": "stdout",
     "output_type": "stream",
     "text": [
      "['i', 'o', 'x']\n",
      "['i', 'o', 'x']\n",
      "['i', 'o', 'x']\n"
     ]
    }
   ],
   "source": [
    "input2 = [\n",
    "    ['x', 'x', 'x'],\n",
    "    ['o', 'o', 'o'],\n",
    "    ['i', 'i', 'i'],\n",
    "]\n",
    "rotate(input2)\n",
    "for r in input2:\n",
    "    print(r)"
   ]
  },
  {
   "cell_type": "code",
   "execution_count": null,
   "metadata": {
    "collapsed": true
   },
   "outputs": [],
   "source": []
  }
 ],
 "metadata": {
  "kernelspec": {
   "display_name": "Python 3",
   "language": "python",
   "name": "python3"
  },
  "language_info": {
   "codemirror_mode": {
    "name": "ipython",
    "version": 3
   },
   "file_extension": ".py",
   "mimetype": "text/x-python",
   "name": "python",
   "nbconvert_exporter": "python",
   "pygments_lexer": "ipython3",
   "version": "3.6.3"
  }
 },
 "nbformat": 4,
 "nbformat_minor": 2
}
