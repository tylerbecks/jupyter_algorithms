{
 "cells": [
  {
   "cell_type": "markdown",
   "metadata": {},
   "source": [
    "# String Compression"
   ]
  },
  {
   "cell_type": "markdown",
   "metadata": {},
   "source": [
    "Implement a method to perform a basic string compression using the counts of repeated characters. If the \"compressed\" string woud not become smaller than the original string, your method should return the original string.  You can assume the string has only one uppercase and lowercase letters (a-z).\n",
    "<br>\n",
    "Example:\n",
    "<br>\n",
    "Input: aabcccccaaa\n",
    "<br>\n",
    "Output: a2b1c5a3"
   ]
  },
  {
   "cell_type": "code",
   "execution_count": 15,
   "metadata": {
    "collapsed": true
   },
   "outputs": [],
   "source": [
    "def compress(string):\n",
    "    result = ''\n",
    "    i = 0\n",
    "    while i < len(string):\n",
    "        char = string[i]\n",
    "        count = 0\n",
    "        while i < len(string) and string[i] == char:\n",
    "            count += 1\n",
    "            i += 1\n",
    "        result = result + char + str(count)\n",
    "    return result if len(result) < len(string) else string"
   ]
  },
  {
   "cell_type": "code",
   "execution_count": 16,
   "metadata": {},
   "outputs": [
    {
     "name": "stdout",
     "output_type": "stream",
     "text": [
      "True\n",
      "True\n",
      "True\n",
      "True\n"
     ]
    }
   ],
   "source": [
    "print(compress('aabcccccaaa') == 'a2b1c5a3')\n",
    "print(compress('abbbbbbbccccca') == 'a1b7c5a1')\n",
    "print(compress('') == '')\n",
    "print(compress('foo') == 'foo')"
   ]
  },
  {
   "cell_type": "markdown",
   "metadata": {},
   "source": [
    "Notes: Use an array to build string instead of appending to a string since string compression takes O(n) time"
   ]
  },
  {
   "cell_type": "code",
   "execution_count": null,
   "metadata": {
    "collapsed": true
   },
   "outputs": [],
   "source": []
  }
 ],
 "metadata": {
  "kernelspec": {
   "display_name": "Python 2",
   "language": "python",
   "name": "python2"
  },
  "language_info": {
   "codemirror_mode": {
    "name": "ipython",
    "version": 2
   },
   "file_extension": ".py",
   "mimetype": "text/x-python",
   "name": "python",
   "nbconvert_exporter": "python",
   "pygments_lexer": "ipython2",
   "version": "2.7.14"
  }
 },
 "nbformat": 4,
 "nbformat_minor": 2
}
