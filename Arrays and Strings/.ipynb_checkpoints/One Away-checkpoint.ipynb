{
 "cells": [
  {
   "cell_type": "markdown",
   "metadata": {},
   "source": [
    "# One Away"
   ]
  },
  {
   "cell_type": "markdown",
   "metadata": {},
   "source": [
    "There are three types of edits that can be performed on strings:\n",
    "* insert a character\n",
    "* remove a character\n",
    "* replace a character\n",
    "\n",
    "Given 2 strings, write a function to check if they are one edit (or 0 edits) away.\n",
    "\n",
    "EXAMPLE:\n",
    "<br>\n",
    "pale, ple => true\n",
    "<br>\n",
    "pales, pale => true\n",
    "<br>\n",
    "pale, bale => true\n",
    "<br>\n",
    "pale, bake => false"
   ]
  },
  {
   "cell_type": "code",
   "execution_count": 25,
   "metadata": {
    "collapsed": true
   },
   "outputs": [],
   "source": [
    "def is_one_away(one, two):\n",
    "    if abs(len(one) - len(two)) > 1:\n",
    "        return False\n",
    "    elif len(one) == len(two):\n",
    "        return is_one_edit_away(one, two)\n",
    "    else:\n",
    "        return is_one_insertion_away(one, two)"
   ]
  },
  {
   "cell_type": "code",
   "execution_count": 26,
   "metadata": {
    "collapsed": true
   },
   "outputs": [],
   "source": [
    "def is_one_edit_away(one, two):\n",
    "    diff_count = 0\n",
    "    for index, char in enumerate(one):\n",
    "        if two[index] != char:\n",
    "            if diff_count == 1:\n",
    "                return False\n",
    "            diff_count = 1\n",
    "\n",
    "    return True"
   ]
  },
  {
   "cell_type": "code",
   "execution_count": 27,
   "metadata": {
    "collapsed": true
   },
   "outputs": [],
   "source": [
    "def is_one_insertion_away(one, two):\n",
    "    short = one if len(one) < len(two) else two\n",
    "    longer = one if len(one) > len(two) else two\n",
    "    short_index = 0\n",
    "    for index, char in enumerate(longer[:-1]):\n",
    "        if index - short_index > 1:\n",
    "            return False\n",
    "        if short[short_index] == char:\n",
    "            short_index += 1\n",
    "        \n",
    "    return True"
   ]
  },
  {
   "cell_type": "code",
   "execution_count": 28,
   "metadata": {},
   "outputs": [
    {
     "name": "stdout",
     "output_type": "stream",
     "text": [
      "True True\n",
      "True True\n",
      "True True\n",
      "False False\n",
      "True True\n",
      "True True\n",
      "True True\n",
      "False False\n"
     ]
    }
   ],
   "source": [
    "print(is_one_away('pale', 'ple'), True)\n",
    "print(is_one_away('ple', 'pale'), True)\n",
    "print(is_one_away('pales', 'pale'), True)\n",
    "print(is_one_away('palesss', 'pale'), False)\n",
    "print(is_one_away('pale', 'pales'), True)\n",
    "print(is_one_away('pale', 'pasle'), True)\n",
    "print(is_one_away('pale', 'bale'), True)\n",
    "print(is_one_away('pale', 'bake'), False)"
   ]
  },
  {
   "cell_type": "code",
   "execution_count": null,
   "metadata": {
    "collapsed": true
   },
   "outputs": [],
   "source": []
  }
 ],
 "metadata": {
  "kernelspec": {
   "display_name": "Python 3",
   "language": "python",
   "name": "python3"
  },
  "language_info": {
   "codemirror_mode": {
    "name": "ipython",
    "version": 3
   },
   "file_extension": ".py",
   "mimetype": "text/x-python",
   "name": "python",
   "nbconvert_exporter": "python",
   "pygments_lexer": "ipython3",
   "version": "3.6.3"
  }
 },
 "nbformat": 4,
 "nbformat_minor": 2
}
