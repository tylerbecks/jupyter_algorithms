{
 "cells": [
  {
   "cell_type": "markdown",
   "metadata": {},
   "source": [
    "# One Away"
   ]
  },
  {
   "cell_type": "markdown",
   "metadata": {},
   "source": [
    "There are three types of edits that can be performed on strings:\n",
    "* insert a character\n",
    "* remove a character\n",
    "* replace a character\n",
    "\n",
    "Given 2 strings, write a function to check if they are one edit (or 0 edits) away.\n",
    "\n",
    "EXAMPLE:\n",
    "<br>\n",
    "pale, ple => true\n",
    "<br>\n",
    "pales, pale => true\n",
    "<br>\n",
    "pale, bale => true\n",
    "<br>\n",
    "pale, bake => false"
   ]
  },
  {
   "cell_type": "code",
   "execution_count": 7,
   "metadata": {
    "collapsed": true
   },
   "outputs": [],
   "source": [
    "def is_one_edit_away(first, second):\n",
    "    if first == second:\n",
    "        return True\n",
    "\n",
    "    len_diff = abs(len(first) - len(second))\n",
    "    if (len_diff > 1):\n",
    "        return False\n",
    "\n",
    "    if len_diff == 0:\n",
    "        return is_one_replacement_away(first, second)\n",
    "    else:\n",
    "        return is_one_insertion_away(first, second)\n"
   ]
  },
  {
   "cell_type": "code",
   "execution_count": 8,
   "metadata": {
    "collapsed": true
   },
   "outputs": [],
   "source": [
    "def is_one_replacement_away(first, second):\n",
    "    diff_found = False\n",
    "    for i in xrange(len(first)):\n",
    "        if first[i] != second[i]:\n",
    "            if diff_found:\n",
    "                return False\n",
    "            diff_found = True\n",
    "\n",
    "    return True"
   ]
  },
  {
   "cell_type": "code",
   "execution_count": 9,
   "metadata": {
    "collapsed": true
   },
   "outputs": [],
   "source": [
    "def is_one_insertion_away(first, second):\n",
    "    i = 0\n",
    "    j = 0\n",
    "    shorter = first if len(first) < len(second) else second\n",
    "    longer = first if len(first) > len(second) else second\n",
    "    while i < len(shorter) and j < len(longer):\n",
    "        if shorter[i] != longer[j]:\n",
    "            j += 1\n",
    "            if j - i > 1:\n",
    "                return False\n",
    "        else:\n",
    "            i += 1\n",
    "            j += 1\n",
    "    \n",
    "    return True\n",
    "        "
   ]
  },
  {
   "cell_type": "code",
   "execution_count": 12,
   "metadata": {},
   "outputs": [
    {
     "name": "stdout",
     "output_type": "stream",
     "text": [
      "(True, True)\n",
      "(True, True)\n",
      "(True, True)\n",
      "(False, False)\n",
      "(True, True)\n",
      "(True, True)\n",
      "(True, True)\n",
      "(False, False)\n"
     ]
    }
   ],
   "source": [
    "print(is_one_edit_away('pale', 'ple'), True)\n",
    "print(is_one_edit_away('ple', 'pale'), True)\n",
    "print(is_one_edit_away('pales', 'pale'), True)\n",
    "print(is_one_edit_away('palesss', 'pale'), False)\n",
    "print(is_one_edit_away('pale', 'pales'), True)\n",
    "print(is_one_edit_away('pale', 'pasle'), True)\n",
    "print(is_one_edit_away('pale', 'bale'), True)\n",
    "print(is_one_edit_away('pale', 'bake'), False)"
   ]
  },
  {
   "cell_type": "code",
   "execution_count": null,
   "metadata": {
    "collapsed": true
   },
   "outputs": [],
   "source": []
  }
 ],
 "metadata": {
  "kernelspec": {
   "display_name": "Python 2",
   "language": "python",
   "name": "python2"
  },
  "language_info": {
   "codemirror_mode": {
    "name": "ipython",
    "version": 2
   },
   "file_extension": ".py",
   "mimetype": "text/x-python",
   "name": "python",
   "nbconvert_exporter": "python",
   "pygments_lexer": "ipython2",
   "version": "2.7.14"
  }
 },
 "nbformat": 4,
 "nbformat_minor": 2
}
