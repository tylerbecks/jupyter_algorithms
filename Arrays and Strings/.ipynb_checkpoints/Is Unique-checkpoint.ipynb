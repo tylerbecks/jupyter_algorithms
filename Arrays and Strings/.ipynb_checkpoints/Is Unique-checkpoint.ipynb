{
 "cells": [
  {
   "cell_type": "markdown",
   "metadata": {},
   "source": [
    "# Is Unique"
   ]
  },
  {
   "cell_type": "markdown",
   "metadata": {},
   "source": [
    "Implement an algorithm to determine if a string has all unique characters.  What if you cannot use another data structure?"
   ]
  },
  {
   "cell_type": "code",
   "execution_count": 28,
   "metadata": {
    "collapsed": true
   },
   "outputs": [],
   "source": [
    "def is_unique(str):\n",
    "    for index, x in enumerate(str):\n",
    "        for y in str[index + 1:]:\n",
    "            if x == y:\n",
    "                return False\n",
    "    return True"
   ]
  },
  {
   "cell_type": "markdown",
   "metadata": {},
   "source": [
    "Time: O(n<sup>2</sup>)\n",
    "\n",
    "Space: O(1)"
   ]
  },
  {
   "cell_type": "code",
   "execution_count": 3,
   "metadata": {
    "collapsed": true
   },
   "outputs": [],
   "source": [
    "def is_unique_2(str):\n",
    "    if len(str) > 128:\n",
    "        retunr False\n",
    "    hash = {}\n",
    "    for x in str:\n",
    "        if x in hash:\n",
    "            return False\n",
    "        hash[x] = x\n",
    "    return True"
   ]
  },
  {
   "cell_type": "markdown",
   "metadata": {},
   "source": [
    "Time: O(n) or O(1) since it won't exceed 128\n",
    "\n",
    "Space: O(n)"
   ]
  },
  {
   "cell_type": "code",
   "execution_count": 2,
   "metadata": {
    "collapsed": true
   },
   "outputs": [],
   "source": [
    "def is_unique_3(str):\n",
    "    sorted_str = sorted(str)\n",
    "    for index, x in enumerate(sorted_str):\n",
    "        if index == len(sorted_str) - 1:\n",
    "            return True\n",
    "\n",
    "        if sorted_str[index] == sorted_str[index + 1]:\n",
    "            return False"
   ]
  },
  {
   "cell_type": "markdown",
   "metadata": {},
   "source": [
    "Time: O(nlogn)\n",
    "\n",
    "Space: O(n)"
   ]
  },
  {
   "cell_type": "code",
   "execution_count": 4,
   "metadata": {
    "scrolled": true
   },
   "outputs": [
    {
     "name": "stdout",
     "output_type": "stream",
     "text": [
      "True\n",
      "False\n",
      "True\n",
      "None\n"
     ]
    }
   ],
   "source": [
    "print(is_unique_3('abc'))\n",
    "print(is_unique_3('abcc'))\n",
    "print(is_unique_3('a'))\n",
    "print(is_unique_3(''))"
   ]
  }
 ],
 "metadata": {
  "kernelspec": {
   "display_name": "Python 2",
   "language": "python",
   "name": "python2"
  },
  "language_info": {
   "codemirror_mode": {
    "name": "ipython",
    "version": 2
   },
   "file_extension": ".py",
   "mimetype": "text/x-python",
   "name": "python",
   "nbconvert_exporter": "python",
   "pygments_lexer": "ipython2",
   "version": "2.7.14"
  }
 },
 "nbformat": 4,
 "nbformat_minor": 2
}
