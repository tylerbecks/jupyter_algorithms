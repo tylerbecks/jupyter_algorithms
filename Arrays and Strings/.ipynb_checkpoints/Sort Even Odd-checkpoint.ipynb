{
 "cells": [
  {
   "cell_type": "markdown",
   "metadata": {},
   "source": [
    "# Sort Even Odd"
   ]
  },
  {
   "cell_type": "markdown",
   "metadata": {},
   "source": [
    "Given an array, reorder its entries so evens are first.  This is easy with O(n) space, instead do it without allocating additional space."
   ]
  },
  {
   "cell_type": "markdown",
   "metadata": {},
   "source": [
    "Space: O(1)"
   ]
  },
  {
   "cell_type": "code",
   "execution_count": 26,
   "metadata": {},
   "outputs": [
    {
     "name": "stdout",
     "output_type": "stream",
     "text": [
      "[8, 2, 6, 4, 5, 7, 3, 1]\n",
      "[3, 5, 1]\n",
      "[2, 4, 6]\n",
      "[]\n"
     ]
    }
   ],
   "source": [
    "def sort_even_odd(arr):\n",
    "    next_even = 0\n",
    "    next_odd = len(arr) - 1\n",
    "    while next_even < next_odd:\n",
    "        if is_even(arr[next_even]):\n",
    "            next_even += 1\n",
    "        else:\n",
    "            arr[next_even], arr[next_odd] = arr[next_odd], arr[next_even]\n",
    "            next_odd -= 1\n",
    "        \n",
    "    return arr\n",
    "\n",
    "def is_even(num):\n",
    "    return num % 2 == 0\n",
    "\n",
    "print(sort_even_odd([1, 2, 3, 4, 5, 6, 7, 8]))\n",
    "print(sort_even_odd([1, 3, 5]))\n",
    "print(sort_even_odd([2, 4, 6]))\n",
    "print(sort_even_odd([]))"
   ]
  }
 ],
 "metadata": {
  "kernelspec": {
   "display_name": "Python 2",
   "language": "python",
   "name": "python2"
  },
  "language_info": {
   "codemirror_mode": {
    "name": "ipython",
    "version": 2
   },
   "file_extension": ".py",
   "mimetype": "text/x-python",
   "name": "python",
   "nbconvert_exporter": "python",
   "pygments_lexer": "ipython2",
   "version": "2.7.14"
  }
 },
 "nbformat": 4,
 "nbformat_minor": 2
}
