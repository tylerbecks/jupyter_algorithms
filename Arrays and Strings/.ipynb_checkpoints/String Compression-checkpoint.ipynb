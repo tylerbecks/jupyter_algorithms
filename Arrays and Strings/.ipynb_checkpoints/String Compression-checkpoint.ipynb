{
 "cells": [
  {
   "cell_type": "markdown",
   "metadata": {},
   "source": [
    "# String Compression"
   ]
  },
  {
   "cell_type": "markdown",
   "metadata": {},
   "source": [
    "Implement a method to perform a basic string compression using the counts of repeated characters. If the \"compressed\" string woud not become smaller than the original string, your method should return the original string.  You can assume the string has only one uppercase and lowercase letters (a-z).\n",
    "<br>\n",
    "Example:\n",
    "<br>\n",
    "Input: aabcccccaaa\n",
    "<br>\n",
    "Output: a2b1c5a3"
   ]
  },
  {
   "cell_type": "code",
   "execution_count": 16,
   "metadata": {
    "collapsed": true
   },
   "outputs": [],
   "source": [
    "def compress(string):\n",
    "    result = []\n",
    "    i = 0\n",
    "    while i < len(string):\n",
    "        char = string[i]\n",
    "        result.append(char)\n",
    "        count = 0\n",
    "        while i < len(string) and string[i] == char:\n",
    "            count += 1\n",
    "            i += 1\n",
    "            \n",
    "        result.append(str(count))\n",
    "        \n",
    "    return ''.join(result)\n",
    "        "
   ]
  },
  {
   "cell_type": "code",
   "execution_count": 17,
   "metadata": {},
   "outputs": [
    {
     "name": "stdout",
     "output_type": "stream",
     "text": [
      "a2b1c5a3 a2b1c5a3\n",
      "a1b7c5a1 a1b7c5a1\n",
      " \n",
      "f1o2 foo\n"
     ]
    }
   ],
   "source": [
    "print(compress('aabcccccaaa'), 'a2b1c5a3')\n",
    "print(compress('abbbbbbbccccca'), 'a1b7c5a1')\n",
    "print(compress(''), '')\n",
    "print(compress('foo'), 'foo')"
   ]
  },
  {
   "cell_type": "markdown",
   "metadata": {},
   "source": [
    "Notes: Use an array to build string instead of appending to a string since string compression takes O(n) time"
   ]
  },
  {
   "cell_type": "code",
   "execution_count": null,
   "metadata": {
    "collapsed": true
   },
   "outputs": [],
   "source": []
  }
 ],
 "metadata": {
  "kernelspec": {
   "display_name": "Python 3",
   "language": "python",
   "name": "python3"
  },
  "language_info": {
   "codemirror_mode": {
    "name": "ipython",
    "version": 3
   },
   "file_extension": ".py",
   "mimetype": "text/x-python",
   "name": "python",
   "nbconvert_exporter": "python",
   "pygments_lexer": "ipython3",
   "version": "3.6.3"
  }
 },
 "nbformat": 4,
 "nbformat_minor": 2
}
