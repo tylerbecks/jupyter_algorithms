{
 "cells": [
  {
   "cell_type": "markdown",
   "metadata": {},
   "source": [
    "# Dutch Flag Partition"
   ]
  },
  {
   "cell_type": "markdown",
   "metadata": {},
   "source": [
    "Write a function that takes an array A and an index i into A, and rearranges the elements such that all elements less than A[i] (the \"pivot\") appear first, followed by elements equal to the pivot, followed by elements greater than the pivot."
   ]
  },
  {
   "cell_type": "code",
   "execution_count": 24,
   "metadata": {},
   "outputs": [],
   "source": [
    "def dutch_flag_partition(array, pivot_index):\n",
    "    pivot = array[pivot_index]\n",
    "    small = 0\n",
    "    for i in xrange(len(array)):\n",
    "        if array[i] < pivot:\n",
    "            array[i], array[small] = array[small], array[i]\n",
    "            small += 1\n",
    "\n",
    "    large = len(array) - 1\n",
    "    for j in reversed(xrange(len(array))):\n",
    "        if array[j] > pivot:\n",
    "            array[j], array[large] = array[large], array[j]\n",
    "    return array\n",
    "    "
   ]
  },
  {
   "cell_type": "code",
   "execution_count": 25,
   "metadata": {},
   "outputs": [
    {
     "name": "stdout",
     "output_type": "stream",
     "text": [
      "[0, 1, 2, 0, 2, 1, 1]\n",
      "[0, 1, 0, 1, 1, 2, 2]\n"
     ]
    }
   ],
   "source": [
    "array = [0, 1, 2, 0, 2, 1, 1]\n",
    "print(dutch_flag_partition(array, 3))\n",
    "# print([0, 0, 1, 2, 2, 1, 1])\n",
    "print(dutch_flag_partition(array, 2))\n",
    "# print([0, 1, 0, 1, 1, 2, 2])"
   ]
  },
  {
   "cell_type": "code",
   "execution_count": null,
   "metadata": {
    "collapsed": true
   },
   "outputs": [],
   "source": []
  }
 ],
 "metadata": {
  "kernelspec": {
   "display_name": "Python 2",
   "language": "python",
   "name": "python2"
  },
  "language_info": {
   "codemirror_mode": {
    "name": "ipython",
    "version": 2
   },
   "file_extension": ".py",
   "mimetype": "text/x-python",
   "name": "python",
   "nbconvert_exporter": "python",
   "pygments_lexer": "ipython2",
   "version": "2.7.14"
  }
 },
 "nbformat": 4,
 "nbformat_minor": 2
}
